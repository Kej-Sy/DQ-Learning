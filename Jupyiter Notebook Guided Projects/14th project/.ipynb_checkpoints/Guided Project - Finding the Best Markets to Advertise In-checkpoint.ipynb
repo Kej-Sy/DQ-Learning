{
 "cells": [
  {
   "cell_type": "markdown",
   "metadata": {},
   "source": [
    "# Finding the Best Two Markets to Advertise In"
   ]
  },
  {
   "cell_type": "markdown",
   "metadata": {},
   "source": [
    "**About:**\n",
    "\n",
    "An e-learning company which offers courses on programming want to promote their products and invest some money in advertisement. Most of courses are on web and mobile development, but also cover many other domains, like data science, game development, etc.\n",
    "\n",
    "**Goal:**\n",
    "\n",
    "Our goal in this project is to find out the two best markets to advertise product in."
   ]
  },
  {
   "cell_type": "markdown",
   "metadata": {},
   "source": [
    "## Understanding the Data"
   ]
  },
  {
   "cell_type": "code",
   "execution_count": null,
   "metadata": {
    "collapsed": true
   },
   "outputs": [],
   "source": []
  }
 ],
 "metadata": {
  "kernelspec": {
   "display_name": "Python 3",
   "language": "python",
   "name": "python3"
  },
  "language_info": {
   "codemirror_mode": {
    "name": "ipython",
    "version": 3
   },
   "file_extension": ".py",
   "mimetype": "text/x-python",
   "name": "python",
   "nbconvert_exporter": "python",
   "pygments_lexer": "ipython3",
   "version": "3.4.3"
  }
 },
 "nbformat": 4,
 "nbformat_minor": 2
}
